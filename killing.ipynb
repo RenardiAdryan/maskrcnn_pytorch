{
 "cells": [
  {
   "cell_type": "code",
   "execution_count": 1,
   "metadata": {},
   "outputs": [
    {
     "name": "stdout",
     "output_type": "stream",
     "text": [
      "Killing PID:  ['566255']\n",
      "PID 566255 Sucessfully Terminated\n",
      "Killing PID:  ['566255', '566256']\n",
      "PID 566255 Sucessfully Terminated\n",
      "PID 566256 Sucessfully Terminated\n",
      "Killing PID:  ['566255', '566256', '566257']\n",
      "PID 566255 Sucessfully Terminated\n",
      "PID 566256 Sucessfully Terminated\n",
      "PID 566257 Sucessfully Terminated\n",
      "Killing PID:  ['566255', '566256', '566257', '566281']\n",
      "PID 566255 Sucessfully Terminated\n",
      "PID 566256 Sucessfully Terminated\n",
      "PID 566257 Sucessfully Terminated\n",
      "PID 566281 Sucessfully Terminated\n",
      "Killing PID:  ['566255', '566256', '566257', '566281', '669841']\n",
      "PID 566255 Sucessfully Terminated\n",
      "PID 566256 Sucessfully Terminated\n",
      "PID 566257 Sucessfully Terminated\n",
      "PID 566281 Sucessfully Terminated\n",
      "PID 669841 Sucessfully Terminated\n",
      "Killing PID:  ['566255', '566256', '566257', '566281', '669841', '669916']\n",
      "PID 566255 Sucessfully Terminated\n",
      "PID 566256 Sucessfully Terminated\n",
      "PID 566257 Sucessfully Terminated\n",
      "PID 566281 Sucessfully Terminated\n",
      "PID 669841 Sucessfully Terminated\n",
      "PID 669916 Sucessfully Terminated\n"
     ]
    }
   ],
   "source": [
    "import os,signal\n",
    "# name = 'py_39_shap'\n",
    "name = 'maskrcnn_pytorch'\n",
    "linee=[]\n",
    "for line in os.popen(\"ps ax | grep \" + name + \" | grep -v grep\"):\n",
    "    fields = line.split()\n",
    "                \n",
    "    # extracting Process ID from the output\n",
    "    pid = fields[0]\n",
    "    linee.append(pid)\n",
    "\n",
    "    print(\"Killing PID: \", linee)\n",
    "    if len(pid) !=0 :\n",
    "        for pid in linee:\n",
    "            # terminating process\n",
    "            try:\n",
    "                os.kill(int(pid), signal.SIGKILL)\n",
    "                print(f\"PID {pid} Sucessfully Terminated\")\n",
    "            except:\n",
    "                print(f\"PID {pid} Failed to be killed\")\n",
    "    else:\n",
    "        print(f\"Process Not found\")"
   ]
  }
 ],
 "metadata": {
  "kernelspec": {
   "display_name": "Python 3.9.7 ('py_39_shap')",
   "language": "python",
   "name": "python3"
  },
  "language_info": {
   "codemirror_mode": {
    "name": "ipython",
    "version": 3
   },
   "file_extension": ".py",
   "mimetype": "text/x-python",
   "name": "python",
   "nbconvert_exporter": "python",
   "pygments_lexer": "ipython3",
   "version": "3.9.7"
  },
  "orig_nbformat": 4,
  "vscode": {
   "interpreter": {
    "hash": "5a625c866e52281fc36266651c4069f152682fb2abce0d4f741b37f6f9804593"
   }
  }
 },
 "nbformat": 4,
 "nbformat_minor": 2
}
