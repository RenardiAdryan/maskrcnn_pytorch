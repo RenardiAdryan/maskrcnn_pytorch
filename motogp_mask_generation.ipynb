{
 "cells": [
  {
   "cell_type": "code",
   "execution_count": 1,
   "metadata": {},
   "outputs": [],
   "source": [
    "import os\n",
    "import numpy as np\n",
    "from matplotlib import pyplot as plt\n",
    "import cv2\n",
    "import torch\n",
    "import torch.utils.data\n",
    "from PIL import Image"
   ]
  },
  {
   "cell_type": "code",
   "execution_count": 9,
   "metadata": {},
   "outputs": [],
   "source": [
    "import json\n",
    "# Open Anotation\n",
    "with open(r'D:\\Machine_Learning\\maskrcnn_pytorch\\data\\Motogp\\dl_motogp2.json', 'r') as f:\n",
    "  data = json.load(f)\n",
    "\n",
    "for idx,filename in enumerate(data['_via_img_metadata']):\n",
    "    image = cv2.imread(r\"D:\\Machine_Learning\\maskrcnn_pytorch\\data\\Motogp\\images\\\\\"+data['_via_img_metadata'][filename]['filename'])\n",
    "    \n",
    "    #Create folder\n",
    "    parent_dir = r\"D:\\Machine_Learning\\maskrcnn_pytorch\\data\\Motogp\\mask\"\n",
    "    path = os.path.join(parent_dir,data['_via_img_metadata'][filename]['filename'][:-4])\n",
    "    try:\n",
    "        os.makedirs(path, exist_ok = True)\n",
    "        # print(\"Directory '%s' created successfully\" % directory)\n",
    "    except OSError as error:\n",
    "        print(\"Directory '%s' can not be created\" % path)\n",
    "\n",
    "    \n",
    "    for idx_,bbox in enumerate(data['_via_img_metadata'][filename]['regions']):\n",
    "      all_points_x = bbox['shape_attributes']['all_points_x']\n",
    "      all_points_y = bbox['shape_attributes']['all_points_y']\n",
    "      points = np.array(list(zip(all_points_x, all_points_y)))\n",
    "      \n",
    "      labels = bbox['region_attributes']['class']\n",
    "      mask = np.zeros(image.shape[:2], dtype=\"uint8\")\n",
    "      cv2.fillPoly(mask, pts=[points],color=(255, 255, 255))\n",
    "      #Save image to folder class\n",
    "      #Crate folder class\n",
    "      path = os.path.join(parent_dir,data['_via_img_metadata'][filename]['filename'][:-4],\"class_\"+str(int(labels)+1))\n",
    "      try:\n",
    "          os.makedirs(path, exist_ok = True)\n",
    "          # print(\"Directory '%s' created successfully\" % directory)\n",
    "          cv2.imwrite(path+\"\\\\\"+str(idx_)+\"_\"+data['_via_img_metadata'][filename]['filename'], mask)\n",
    "      except OSError as error:\n",
    "          print(\"Directory '%s' can not be created\" % path)\n",
    "\n",
    "      \n",
    "    # plt.imshow(mask,cmap=\"gray\")  \n",
    "    # break\n",
    "\n"
   ]
  }
 ],
 "metadata": {
  "kernelspec": {
   "display_name": "Python 3.9.12 ('maskrcnn_pytorch')",
   "language": "python",
   "name": "python3"
  },
  "language_info": {
   "codemirror_mode": {
    "name": "ipython",
    "version": 3
   },
   "file_extension": ".py",
   "mimetype": "text/x-python",
   "name": "python",
   "nbconvert_exporter": "python",
   "pygments_lexer": "ipython3",
   "version": "3.9.12"
  },
  "orig_nbformat": 4,
  "vscode": {
   "interpreter": {
    "hash": "3b30402f8b1179c8bf8999a1e9bcd4315a42d72f41dd303c7c1363f3cd46ce76"
   }
  }
 },
 "nbformat": 4,
 "nbformat_minor": 2
}
